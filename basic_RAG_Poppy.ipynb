{
 "cells": [
  {
   "cell_type": "markdown",
   "id": "d67a4729-cd2f-47e7-a4f6-f84a5677414f",
   "metadata": {},
   "source": [
    "# Basic RAG\n",
    "Retrieval-augmented generation (RAG) is an AI framework that synergizes the capabilities of LLMs and information retrieval systems. It’s useful to answer questions or generate content leveraging external knowledge. There are two main steps in RAG: 1) retrieval: retrieve relevant information from a knowledge base with text embeddings stored in a vectore store; 2) generation: insert the relevant information to the prompt for the LLM to generate information. In this guide, we will walk through a very basic example of RAG with two implementations:\n",
    "\n",
    "- RAG from scratch with Mistral \n",
    "- RAG with Mistral and LlamaIndex\n",
    "- RAG with Mistral and Haystack\n",
    "\n",
    "## RAG from scratch \n",
    "\n",
    "This section aims to guide you through the process of building a basic RAG from scratch. We have two goals: firstly, to offer users a comprehensive understanding of the internal workings of RAG and demystify the underlying mechanisms; secondly, to empower you with the essential foundations needed to build an RAG using the minimum required dependencies.\n",
    "\n",
    "\n",
    "### Import needed packages \n",
    "The first step is to install the needed packages `mistralai` and `faiss-cpu` and import the needed packages: \n",
    "\n"
   ]
  },
  {
   "cell_type": "code",
   "execution_count": null,
   "id": "b880d1ed-3db0-45a1-807e-1b47e9ce1320",
   "metadata": {},
   "outputs": [],
   "source": [
    "! pip install faiss-cpu==1.7.4 mistralai==0.0.12"
   ]
  },
  {
   "cell_type": "code",
   "execution_count": null,
   "id": "34ced67c",
   "metadata": {},
   "outputs": [],
   "source": [
    "! pip install requests"
   ]
  },
  {
   "cell_type": "code",
   "execution_count": null,
   "id": "7eeb9c32",
   "metadata": {},
   "outputs": [],
   "source": [
    "! pip install numpy"
   ]
  },
  {
   "cell_type": "code",
   "execution_count": 1,
   "id": "851612c3-ee93-42e3-a1fb-481f89c9410f",
   "metadata": {},
   "outputs": [],
   "source": [
    "from mistralai.client import MistralClient, ChatMessage\n",
    "import requests\n",
    "import numpy as np\n",
    "import faiss\n",
    "import os\n",
    "from getpass import getpass\n",
    "\n",
    "api_key= getpass(\"Type your API Key\")\n",
    "client = MistralClient(api_key=api_key)"
   ]
  },
  {
   "cell_type": "markdown",
   "id": "fe8609d5-9f27-4202-b0be-36db34412998",
   "metadata": {},
   "source": [
    "### Get data\n",
    "\n",
    "Using only the FAQs - Must include the rest of the files at some point"
   ]
  },
  {
   "cell_type": "code",
   "execution_count": null,
   "id": "c4c01740-72b4-482c-b61e-e272a734f01f",
   "metadata": {},
   "outputs": [],
   "source": [
    "def load_data_from_file(file_path: str) -> dict:\n",
    "    with open(file_path, 'r') as file:\n",
    "        text = file.read()\n",
    "        data = {\"text\": text}\n",
    "    return data\n",
    "\n",
    "file_path = \"/Users/acrobat/Documents/GitHub/cookbook/data_poppy/faqv3.txt\"\n",
    "data = load_data_from_file(file_path)\n",
    "\n",
    "print(\"File contents:\\n\", data['text'])"
   ]
  },
  {
   "cell_type": "code",
   "execution_count": 15,
   "id": "1b21517a",
   "metadata": {},
   "outputs": [
    {
     "name": "stdout",
     "output_type": "stream",
     "text": [
      "First 100 characters of file:\n",
      " Q: When is a good time for a child's first dental visit and what should parents expect?\n",
      "A: The American Academy of Pediatric Dentistry (AAPD) recommends that every child should have an initial oral evaluation by a pediatric dentist by Age 1 or within 6 months after their first tooth appears. At Poppy Kids Pediatric Dentistry, your child's first visit includes a facility tour, possible cleaning, dental radiographs, fluoride treatment, and an examination by Dr. Andrea. She'll discuss dental care, answer questions, and cover topics like brushing, flossing, and diet. We recommend follow-up visits every 3-6 months, based on individual dental needs. For children under three, we offer a complimentary first appointment with no obligation.\n",
      "\n",
      "Q: What age should children start getting dental x-rays and why are they important?\n",
      "A: Children typically start getting dental X-rays around the age of 6, whi\n"
     ]
    }
   ],
   "source": [
    "#print first 100 chars of in faq poppy file\n",
    "print(\"First 100 characters of file:\\n\", data['text'][:900])"
   ]
  },
  {
   "cell_type": "code",
   "execution_count": 17,
   "id": "1c25667e",
   "metadata": {},
   "outputs": [
    {
     "data": {
      "text/plain": [
       "11005"
      ]
     },
     "execution_count": 17,
     "metadata": {},
     "output_type": "execute_result"
    }
   ],
   "source": [
    "len(data['text'])"
   ]
  },
  {
   "cell_type": "code",
   "execution_count": 18,
   "id": "45de22a5",
   "metadata": {},
   "outputs": [
    {
     "data": {
      "text/plain": [
       "11005"
      ]
     },
     "execution_count": 18,
     "metadata": {},
     "output_type": "execute_result"
    }
   ],
   "source": [
    "text = data['text']\n",
    "len(text)"
   ]
  },
  {
   "cell_type": "markdown",
   "id": "aad1aa61-9e1c-46c8-ae5e-61855df440f9",
   "metadata": {},
   "source": [
    "## Split document into chunks (Simple split text by character)\n",
    "\n",
    "In a RAG system, it is crucial to split the document into smaller chunks so that it’s more effective to identify and retrieve the most relevant information in the retrieval process later. In this example, we simply split our text by character, combine 2048 characters into each chunk, and we get 37 chunks. "
   ]
  },
  {
   "cell_type": "code",
   "execution_count": 19,
   "id": "8494655e-bd87-49de-8f1d-69ffbc1c256e",
   "metadata": {},
   "outputs": [],
   "source": [
    "chunk_size = 2048\n",
    "chunks = [text[i:i + chunk_size] for i in range(0, len(text), chunk_size)]"
   ]
  },
  {
   "cell_type": "code",
   "execution_count": 20,
   "id": "c78c9936-0c1d-471c-b030-6c45639e7238",
   "metadata": {},
   "outputs": [
    {
     "data": {
      "text/plain": [
       "6"
      ]
     },
     "execution_count": 20,
     "metadata": {},
     "output_type": "execute_result"
    }
   ],
   "source": [
    "len(chunks)"
   ]
  },
  {
   "cell_type": "code",
   "execution_count": 32,
   "id": "a2005c88",
   "metadata": {},
   "outputs": [
    {
     "data": {
      "text/plain": [
       "[\"Q: When is a good time for a child's first dental visit and what should parents expect?\\nA: The American Academy of Pediatric Dentistry (AAPD) recommends that every child should have an initial oral evaluation by a pediatric dentist by Age 1 or within 6 months after their first tooth appears. At Poppy Kids Pediatric Dentistry, your child's first visit includes a facility tour, possible cleaning, dental radiographs, fluoride treatment, and an examination by Dr. Andrea. She'll discuss dental care, answer questions, and cover topics like brushing, flossing, and diet. We recommend follow-up visits every 3-6 months, based on individual dental needs. For children under three, we offer a complimentary first appointment with no obligation.\\n\\nQ: What age should children start getting dental x-rays and why are they important?\\nA: Children typically start getting dental X-rays around the age of 6, which coincides with the eruption of their permanent teeth. X-rays are important for several reasons: they help in detecting cavities between teeth, monitoring tooth growth and development, assessing the impact of any injuries, and planning orthodontic treatment. Pediatric dentists use X-rays to ensure a child's teeth and jaw are developing properly and to identify potential issues early, when they are easier to treat. The frequency of dental X-rays depends on the child's individual needs and dental health.\\n\\nQ: What's the best age to introduce an electric toothbrush to children and which type is recommended?\\nA: For introducing an electric toothbrush to children, it's generally recommended to start around the age of 3. This is when children can begin to learn proper brushing habits, and an electric toothbrush can make the process more effective and engaging for them. It's important to choose a toothbrush that is specifically designed for children, with soft bristles and a smaller brush head to comfortably fit in their mouth. Models with timers and gentle oscillating or sonic actions are ideal. However, supervision and guidance by pare\",\n",
       " \"nts are crucial to ensure children brush effectively and safely.\\n\\nQ: Why do children's teeth sometimes appear yellow and how can it be addressed?\\nA: The most common cause is inadequate brushing, leading to plaque buildup which can stain the teeth. Additionally, the natural color of a child's permanent teeth, which are typically more yellow than baby teeth, can become more noticeable as they come in. Other factors include certain medications, excessive fluoride (fluorosis), and genetics. It's important to maintain good oral hygiene and have regular dental check-ups to address any concerns. If the yellowing is pronounced or accompanied by other symptoms, a visit to the pediatric dentist is advised for a proper assessment and appropriate treatment.\\n\\nQ: How can parents determine the right time for their child to visit an orthodontist?\\nA: Parents can typically start considering an orthodontic evaluation for their child around the age of 7. This is the age recommended by the American Association of Orthodontists, as most children have a mix of baby and adult teeth by then, making it easier to diagnose and correct tooth and jaw problems sooner rather than later. Early evaluation doesn't necessarily mean early treatment; it allows the orthodontist to determine the best time to begin any necessary treatment. Signs that your child might need to see an orthodontist include crowded or misplaced teeth, difficulty in chewing or biting, mouth breathing, thumb sucking beyond age 5, and misaligned teeth. Early orthodontic intervention can guide jaw growth, correct harmful oral habits, and improve the appearance and function of your child's teeth.\\n\\nQ: What age do children typically lose their first tooth and what should parents do when their child's tooth is wiggly?\\nA: When a child's tooth becomes wiggly, it's usually a sign that they are ready to lose their first baby tooth. This typically occurs around the age of 6, but it can vary from child to child. Parents should encourage the child to gently wiggle the tooth but avoid forci\",\n",
       " \"ng it out before it's ready, as this can cause pain and increase the risk of infection. Natural wiggling and day-to-day activities like eating will usually lead to the tooth coming out on its own. If the loose tooth is causing discomfort or if there are concerns about how it's coming out, it's advisable to consult with a pediatric dentist. Regular dental visits also help monitor the progress of tooth loss and the growth of permanent teeth.\\n\\nQ: Until what age does your pediatric dental practice provide care for patients?\\nA: Our pediatric dental practice typically provides care for patients up to the age of 18. This includes the transition period from childhood into adolescence, ensuring continuous dental health supervision and treatment throughout their formative years. As young patients grow, their dental needs evolve, and our practice is equipped to address these changing needs, from preventive care and treatment of childhood cavities to guidance on orthodontics and wisdom teeth. Our goal is to maintain their oral health and instill good dental habits that will carry into adulthood. However, for specific cases or individual needs, the age range may vary, and we're always open to discussing continued care beyond this age on a case-by-case basis.\\n\\nQ: What is the ideal age for children to stop using a pacifier or engaging in thumb sucking?\\nA: The ideal age for children to stop using a pacifier or engaging in thumb sucking is typically around the age of 2 to 4 years. Prolonged pacifier use or thumb sucking beyond this age range can lead to dental problems, such as misaligned teeth and changes in the roof of the mouth. It's important to gradually wean children off these habits to prevent potential orthodontic issues in the future. Every child is different, so the approach can vary. Encouragement, positive reinforcement, and providing comfort in other ways can be effective strategies. If the habit persists or if you're concerned about its impact on your child's teeth, consulting with a pediatric dentist can provide fu\",\n",
       " \"rther guidance and personalized strategies.\\n\\nQ: When is it appropriate to evaluate a child for wisdom tooth extraction?\\nA: It's generally appropriate to start evaluating a child for wisdom tooth extraction in the late teenage years, typically around the ages of 17 to 20. This is when wisdom teeth, also known as third molars, usually start to emerge. However, the timing can vary depending on individual development and dental health. At Poppy Kids Pediatric Dentistry, we use dental X-rays to monitor the growth and position of wisdom teeth. The decision to extract is based on factors such as potential crowding, misalignment, risk of impaction (where the tooth does not fully emerge or grows in the wrong direction), and pain or discomfort. Early evaluation is important because it allows for timely intervention, which can prevent more complex issues later on. If the wisdom teeth are likely to cause dental problems, proactive extraction is often recommended. Conversely, if they are healthy, fully grown, correctly positioned, and can be cleaned as part of daily hygiene practices, they might not need to be removed.\\n\\nQ: What age is it safe for teenagers to begin teeth whitening procedures?\\nA: Teenagers can safely begin teeth whitening procedures usually around the age of 14 to 16. The key consideration is that the permanent teeth, particularly the front teeth, have fully erupted and matured. This maturity is important because the enamel needs to be fully developed to minimize sensitivity and maximize the effectiveness of the whitening agents. Before starting any whitening treatment, it's crucial for a teenager to have a dental examination. The dentist will assess the overall oral health, check for cavities or gum problems, and determine if teeth whitening is appropriate. It's also important to manage expectations and ensure that whitening is done safely, using dentist-approved methods and products. Overuse of whitening products or improper techniques can damage tooth enamel and gums, especially in younger, more sensitive m\",\n",
       " \"ouths. Parental consent and guidance, along with professional dental advice, are essential when considering teeth whitening for teenagers.\\n\\nQ: What age should children start brushing and flossing their teeth independently?\\nA: Children should start brushing their teeth with assistance as soon as their first tooth appears, typically around six months of age. However, they usually begin to develop the motor skills necessary for brushing and flossing independently around the age of 6 to 8 years. At this age, children can generally be expected to brush their own teeth, but it's important for parents to supervise and ensure that they're doing it effectively, reaching all areas of the mouth and using the correct amount of toothpaste. Flossing can be a bit more challenging and may require parental assistance or supervision for a little longer, typically until the child is about 8 to 10 years old. Even as children start brushing and flossing independently, regular check-ins and occasional brushing together can help reinforce good habits and technique. It's also important to maintain regular dental check-ups to monitor their oral hygiene and get professional advice on their brushing and flossing skills.\\n\\nQ: Why should your child see a Board-Certified Pediatric Dentist?\\nA: Because they are held to the highest standards in pediatric dental care. These dentists have completed specialized training and a voluntary certification process, emphasizing their proficiency in dental treatments tailored specifically for children. Their Board Certification indicates a commitment to continuous learning and adherence to the latest advancements in pediatric dentistry. Your child's dental health is paramount, which is why choosing a Board-Certified Pediatric Dentist like Dr. Andrea Aduna is essential. Dr. Aduna's board certification underscores her specialized training, expertise in pediatric dental care, and dedication to the highest standards of practice. This level of recognition is a testament to her commitment to providing the best pos\",\n",
       " 'sible dental care for children, ensuring a solid foundation for lifelong oral health.\\n\\nQ: Can I stay with my child during the treatment?\\nA: We aim for each patient to have the happiest dental experience possible. To achieve this, we believe that trust and support are the foundations of building a lasting relationship with you and your child. We, therefore, have an open-door policy and invite you to accompany your child during their appointment if you choose to join us. Each child is unique, and Dr. Andrea would like to take a team approach to dental care. As their parent, we understand that you know your child best, and our goal is to set them up for success.  If you feel your presence will make your child more comfortable during treatment, come on back!\\n']"
      ]
     },
     "execution_count": 32,
     "metadata": {},
     "output_type": "execute_result"
    }
   ],
   "source": [
    "chunks"
   ]
  },
  {
   "cell_type": "markdown",
   "id": "52bb2423",
   "metadata": {},
   "source": [
    "## LATER - Split docs by Q and A (Turn the data into list of dictionaries - Q and A.)"
   ]
  },
  {
   "cell_type": "code",
   "execution_count": null,
   "id": "daa657ca",
   "metadata": {},
   "outputs": [],
   "source": [
    "#looks like I need a list of dictionaries:\n",
    "def parse_qa_text(text: str) -> list:\n",
    "    # Split the text into lines\n",
    "    lines = text.split(\"\\n\")\n",
    "    \n",
    "    # Initialize an empty list to store the questions and answers\n",
    "    data = []\n",
    "    \n",
    "    # Initialize empty strings to store the current question and answer\n",
    "    current_question = \"\"\n",
    "    current_answer = \"\"\n",
    "    \n",
    "    # Iterate over the lines\n",
    "    for line in lines:\n",
    "        # If the line starts with \"Q: \", it's a question\n",
    "        if line.startswith(\"Q: \"):\n",
    "            # If there's a current question and answer, add them to the data\n",
    "            if current_question and current_answer:\n",
    "                data.append({\"Q\": current_question, \"A\": current_answer})\n",
    "            \n",
    "            # Start a new question, removing the \"Q: \" prefix\n",
    "            current_question = line[3:]\n",
    "            \n",
    "            # Clear the current answer\n",
    "            current_answer = \"\"\n",
    "        # If the line starts with \"A: \", it's an answer\n",
    "        elif line.startswith(\"A: \"):\n",
    "            # Start a new answer, removing the \"A: \" prefix\n",
    "            current_answer = line[3:]\n",
    "        # If the line is not empty, it's a continuation of the current answer\n",
    "        elif line:\n",
    "            current_answer += \" \" + line\n",
    "    \n",
    "    # If there's a current question and answer at the end, add them to the data\n",
    "    if current_question and current_answer:\n",
    "        data.append({\"Q\": current_question, \"A\": current_answer})\n",
    "    \n",
    "    return data\n",
    "\n",
    "# Use the function to parse the text data\n",
    "data = parse_qa_text(data['text'])\n",
    "\n",
    "# Print the first question-answer pair to check the result\n",
    "print(data[0])"
   ]
  },
  {
   "cell_type": "code",
   "execution_count": null,
   "id": "8a78fe70",
   "metadata": {},
   "outputs": [],
   "source": []
  },
  {
   "cell_type": "markdown",
   "id": "4176cbe3-9b15-4d17-afb1-665011d09bb7",
   "metadata": {},
   "source": [
    "#### Considerations:\n",
    "- **Chunk size**: Depending on your specific use case, it may be necessary to customize or experiment with different chunk sizes and chunk overlap to achieve optimal performance in RAG. For example, smaller chunks can be more beneficial in retrieval processes, as larger text chunks often contain filler text that can obscure the semantic representation. As such, using smaller text chunks in the retrieval process can enable the RAG system to identify and extract relevant information more effectively and accurately.  However, it’s worth considering the trade-offs that come with using smaller chunks, such as increasing processing time and computational resources. \n",
    "- **How to split**: While the simplest method is to split the text by character, there are other options depending on the use case and document structure. For example, to avoid exceeding token limits in API calls, it may be necessary to split the text by tokens. To maintain the cohesiveness of the chunks, it can be useful to split the text by sentences, paragraphs, or HTML headers. If working with code, it’s often recommended to split by meaningful code chunks for example using an Abstract Syntax Tree (AST) parser. \n",
    "\n",
    "\n",
    "### Create embeddings for each text chunk\n",
    "For each text chunk, we then need to create text embeddings, which are numeric representations of the text in the vector space. Words with similar meanings are expected to be in closer proximity or have a shorter distance in the vector space.\n",
    "To create an embedding, use Mistral’s embeddings API endpoint and the embedding model `mistral-embed`. We create a `get_text_embedding` to get the embedding from a single text chunk and then we use list comprehension to get text embeddings for all text chunks. \n"
   ]
  },
  {
   "cell_type": "code",
   "execution_count": 23,
   "id": "e77d9805-7a53-4210-9f80-f4de52285588",
   "metadata": {},
   "outputs": [],
   "source": [
    "def get_text_embedding(input):\n",
    "    embeddings_batch_response = client.embeddings(\n",
    "          model=\"mistral-embed\",\n",
    "          input=input\n",
    "      )\n",
    "    return embeddings_batch_response.data[0].embedding"
   ]
  },
  {
   "cell_type": "code",
   "execution_count": 24,
   "id": "46503830-6ad5-493e-a629-152721e2d88e",
   "metadata": {},
   "outputs": [],
   "source": [
    "text_embeddings = np.array([get_text_embedding(chunk) for chunk in chunks])"
   ]
  },
  {
   "cell_type": "code",
   "execution_count": 25,
   "id": "ca875993-fe6d-42df-811e-a43891cd0350",
   "metadata": {},
   "outputs": [
    {
     "data": {
      "text/plain": [
       "(6, 1024)"
      ]
     },
     "execution_count": 25,
     "metadata": {},
     "output_type": "execute_result"
    }
   ],
   "source": [
    "text_embeddings.shape"
   ]
  },
  {
   "cell_type": "code",
   "execution_count": 26,
   "id": "55396758-c3f3-45b3-b6e7-d4912c0899f2",
   "metadata": {},
   "outputs": [
    {
     "data": {
      "text/plain": [
       "array([[-0.05307007,  0.00943756,  0.05322266, ...,  0.01525116,\n",
       "        -0.00129986,  0.00590134],\n",
       "       [-0.02661133,  0.04150391,  0.03811646, ...,  0.00809479,\n",
       "         0.00528717, -0.00054073],\n",
       "       [-0.03347778,  0.0280304 ,  0.0222168 , ...,  0.00720215,\n",
       "         0.00587845, -0.01766968],\n",
       "       [-0.04309082,  0.03826904,  0.02584839, ...,  0.0166626 ,\n",
       "         0.00312233,  0.00087881],\n",
       "       [-0.0475769 ,  0.03210449,  0.03369141, ...,  0.02264404,\n",
       "         0.00108528,  0.00587845],\n",
       "       [-0.03253174,  0.02947998,  0.03051758, ..., -0.00907898,\n",
       "         0.00287437, -0.00576782]])"
      ]
     },
     "execution_count": 26,
     "metadata": {},
     "output_type": "execute_result"
    }
   ],
   "source": [
    "text_embeddings"
   ]
  },
  {
   "cell_type": "markdown",
   "id": "1cba33c7-9d1d-44d8-a01e-e30f16be1aac",
   "metadata": {},
   "source": [
    "### Load into a vector database\n",
    "Once we get the text embeddings, a common practice is to store them in a vector database for efficient processing and retrieval. There are several vector database to choose from. In our simple example, we are using an open-source vector database Faiss, which allows for efficient similarity search.  \n",
    "\n",
    "With Faiss, we instantiate an instance of the Index class, which defines the indexing structure of the vector database. We then add the text embeddings to this indexing structure. \n"
   ]
  },
  {
   "cell_type": "code",
   "execution_count": 27,
   "id": "6a5b1877-b113-4527-9055-cae9049fef08",
   "metadata": {},
   "outputs": [],
   "source": [
    "d = text_embeddings.shape[1]\n",
    "index = faiss.IndexFlatL2(d)\n",
    "index.add(text_embeddings)"
   ]
  },
  {
   "cell_type": "markdown",
   "id": "5ee023ab-b26c-4df5-8a7b-7dd660bfad86",
   "metadata": {},
   "source": [
    "#### Considerations:\n",
    "- **Vector database**: When selecting a vector database, there are several factors to consider including speed, scalability, cloud management, advanced filtering, and open-source vs. closed-source. \n",
    "\n",
    "### Create embeddings for a question\n",
    "Whenever users ask a question, we also need to create embeddings for this question using the same embedding models as before. \n"
   ]
  },
  {
   "cell_type": "code",
   "execution_count": 28,
   "id": "894d9764-9da9-4629-8f2a-c9dcaf6ceb8d",
   "metadata": {},
   "outputs": [
    {
     "data": {
      "text/plain": [
       "(1, 1024)"
      ]
     },
     "execution_count": 28,
     "metadata": {},
     "output_type": "execute_result"
    }
   ],
   "source": [
    "question = \"When should my child a stop using a pacifier?\"\n",
    "question_embeddings = np.array([get_text_embedding(question)])\n",
    "question_embeddings.shape"
   ]
  },
  {
   "cell_type": "code",
   "execution_count": 29,
   "id": "9c4948cc-6d8b-449f-bc00-abb3591c7222",
   "metadata": {},
   "outputs": [
    {
     "data": {
      "text/plain": [
       "array([[-0.04406738,  0.03460693,  0.00855255, ...,  0.02774048,\n",
       "        -0.00434875,  0.00724411]])"
      ]
     },
     "execution_count": 29,
     "metadata": {},
     "output_type": "execute_result"
    }
   ],
   "source": [
    "question_embeddings"
   ]
  },
  {
   "cell_type": "markdown",
   "id": "15989e10-d0ec-41be-b6be-fa317565a926",
   "metadata": {},
   "source": [
    "#### Considerations:\n",
    "- Hypothetical Document Embeddings (HyDE): In some cases, the user’s question might not be the most relevant query to use for identifying the relevant context. Instead, it maybe more effective to generate a hypothetical answer or a hypothetical document based on the user’s query and use the embeddings of the generated text to retrieve similar text chunks. \n",
    "\n",
    "### Retrieve similar chunks from the vector database\n",
    "We can perform a search on the vector database with `index.search`, which takes two arguments: the first is the vector of the question embeddings, and the second is the number of similar vectors to retrieve. This function returns the distances and the indices of the most similar vectors to the question vector in the vector database. Then based on the returned indices, we can retrieve the actual relevant text chunks that correspond to those indices. \n"
   ]
  },
  {
   "cell_type": "code",
   "execution_count": 30,
   "id": "c930b378-7aac-434c-881b-ab69d3edb93d",
   "metadata": {},
   "outputs": [
    {
     "name": "stdout",
     "output_type": "stream",
     "text": [
      "[[2 4]]\n"
     ]
    }
   ],
   "source": [
    "D, I = index.search(question_embeddings, k=2) \n",
    "print(I)"
   ]
  },
  {
   "cell_type": "code",
   "execution_count": 31,
   "id": "73aab584-1dbf-4532-b41e-0403eeeeb567",
   "metadata": {},
   "outputs": [
    {
     "name": "stdout",
     "output_type": "stream",
     "text": [
      "[\"ng it out before it's ready, as this can cause pain and increase the risk of infection. Natural wiggling and day-to-day activities like eating will usually lead to the tooth coming out on its own. If the loose tooth is causing discomfort or if there are concerns about how it's coming out, it's advisable to consult with a pediatric dentist. Regular dental visits also help monitor the progress of tooth loss and the growth of permanent teeth.\\n\\nQ: Until what age does your pediatric dental practice provide care for patients?\\nA: Our pediatric dental practice typically provides care for patients up to the age of 18. This includes the transition period from childhood into adolescence, ensuring continuous dental health supervision and treatment throughout their formative years. As young patients grow, their dental needs evolve, and our practice is equipped to address these changing needs, from preventive care and treatment of childhood cavities to guidance on orthodontics and wisdom teeth. Our goal is to maintain their oral health and instill good dental habits that will carry into adulthood. However, for specific cases or individual needs, the age range may vary, and we're always open to discussing continued care beyond this age on a case-by-case basis.\\n\\nQ: What is the ideal age for children to stop using a pacifier or engaging in thumb sucking?\\nA: The ideal age for children to stop using a pacifier or engaging in thumb sucking is typically around the age of 2 to 4 years. Prolonged pacifier use or thumb sucking beyond this age range can lead to dental problems, such as misaligned teeth and changes in the roof of the mouth. It's important to gradually wean children off these habits to prevent potential orthodontic issues in the future. Every child is different, so the approach can vary. Encouragement, positive reinforcement, and providing comfort in other ways can be effective strategies. If the habit persists or if you're concerned about its impact on your child's teeth, consulting with a pediatric dentist can provide fu\", \"ouths. Parental consent and guidance, along with professional dental advice, are essential when considering teeth whitening for teenagers.\\n\\nQ: What age should children start brushing and flossing their teeth independently?\\nA: Children should start brushing their teeth with assistance as soon as their first tooth appears, typically around six months of age. However, they usually begin to develop the motor skills necessary for brushing and flossing independently around the age of 6 to 8 years. At this age, children can generally be expected to brush their own teeth, but it's important for parents to supervise and ensure that they're doing it effectively, reaching all areas of the mouth and using the correct amount of toothpaste. Flossing can be a bit more challenging and may require parental assistance or supervision for a little longer, typically until the child is about 8 to 10 years old. Even as children start brushing and flossing independently, regular check-ins and occasional brushing together can help reinforce good habits and technique. It's also important to maintain regular dental check-ups to monitor their oral hygiene and get professional advice on their brushing and flossing skills.\\n\\nQ: Why should your child see a Board-Certified Pediatric Dentist?\\nA: Because they are held to the highest standards in pediatric dental care. These dentists have completed specialized training and a voluntary certification process, emphasizing their proficiency in dental treatments tailored specifically for children. Their Board Certification indicates a commitment to continuous learning and adherence to the latest advancements in pediatric dentistry. Your child's dental health is paramount, which is why choosing a Board-Certified Pediatric Dentist like Dr. Andrea Aduna is essential. Dr. Aduna's board certification underscores her specialized training, expertise in pediatric dental care, and dedication to the highest standards of practice. This level of recognition is a testament to her commitment to providing the best pos\"]\n"
     ]
    }
   ],
   "source": [
    "retrieved_chunk = [chunks[i] for i in I.tolist()[0]]\n",
    "print(retrieved_chunk)"
   ]
  },
  {
   "cell_type": "markdown",
   "id": "4b417a59-021a-411d-a491-cb31815192cd",
   "metadata": {},
   "source": [
    "#### Considerations:\n",
    "- **Retrieval methods**: There are a lot different retrieval strategies. In our example, we are showing a simple similarity search with embeddings. Sometimes when there is metadata available for the data, it’s better to filter the data based on the metadata first before performing similarity search. There are also other statistical retrieval methods like TF-IDF and BM25 that use frequency and distribution of terms in the document to identify relevant text chunks. \n",
    "- **Retrieved document**: Do we always retrieve individual text chunk as it is? Not always.\n",
    "    - Sometimes, we would like to include more context around the actual retrieved text chunk. We call the actual retrieve text chunk “child chunk” and our goal is to retrieve a larger “parent chunk” that the “child chunk” belongs to.\n",
    "    - On occasion, we might also want to provide weights to our retrieve documents. For example, a time-weighted approach would help us retrieve the most recent document.\n",
    "    - One common issue in the retrieval process is the “lost in the middle” problem where the information in the middle of a long context gets lost. Our models have tried to mitigate this issue. For example, in the passkey task, our models have demonstrated the ability to find a \"needle in a haystack\" by retrieving a randomly inserted passkey within a long prompt, up to 32k context length. However, it is worth considering experimenting with reordering the document to determine if placing the most relevant chunks at the beginning and end leads to improved results.\n",
    "  \n",
    "### Combine context and question in a prompt and generate response\n",
    "\n",
    "Finally, we can offer the retrieved text chunks as the context information within the prompt. Here is a prompt template where we can include both the retrieved text and user question in the prompt. \n",
    "\n"
   ]
  },
  {
   "cell_type": "code",
   "execution_count": 33,
   "id": "da042a53-4564-4057-9a60-9b57dffff6a1",
   "metadata": {},
   "outputs": [],
   "source": [
    "prompt = f\"\"\"\n",
    "Context information is below.\n",
    "---------------------\n",
    "{retrieved_chunk}\n",
    "---------------------\n",
    "Given the context information and not prior knowledge, answer the query.\n",
    "Query: {question}\n",
    "Answer:\n",
    "\"\"\""
   ]
  },
  {
   "cell_type": "code",
   "execution_count": 34,
   "id": "e77d975b-5f69-4e9c-8b94-97214517eac7",
   "metadata": {},
   "outputs": [],
   "source": [
    "def run_mistral(user_message, model=\"mistral-medium-latest\"):\n",
    "    messages = [\n",
    "        ChatMessage(role=\"user\", content=user_message)\n",
    "    ]\n",
    "    chat_response = client.chat(\n",
    "        model=model,\n",
    "        messages=messages\n",
    "    )\n",
    "    return (chat_response.choices[0].message.content)"
   ]
  },
  {
   "cell_type": "code",
   "execution_count": 35,
   "id": "1c5c20aa-6673-4105-9c10-886a1e18da8a",
   "metadata": {},
   "outputs": [
    {
     "data": {
      "text/plain": [
       "\"The ideal age for children to stop using a pacifier is typically around the age of 2 to 4 years. Prolonged pacifier use beyond this age range can lead to dental problems, such as misaligned teeth and changes in the roof of the mouth. It's important to gradually wean children off this habit to prevent potential orthodontic issues in the future. Every child is different, so the approach can vary. Encouragement, positive reinforcement, and providing comfort in other ways can be effective strategies. If the habit persists or if you're concerned about its impact on your child's teeth, consulting with a pediatric dentist can provide further guidance.\""
      ]
     },
     "execution_count": 35,
     "metadata": {},
     "output_type": "execute_result"
    }
   ],
   "source": [
    "run_mistral(prompt)"
   ]
  },
  {
   "cell_type": "markdown",
   "id": "4e3b531c-4730-4108-ae8a-8de6563e085b",
   "metadata": {},
   "source": [
    "#### Considerations:\n",
    "- Prompting techniques: Most of the prompting techniques can be used in developing a RAG system as well. For example, we can use few-shot learning to guide the model’s answers by providing a few examples. Additionally, we can explicitly instruct the model to format answers in a certain way. \n",
    "\n",
    "\n",
    "In the next sections, we are going to show you how to do a similar basic RAG with some of the popular RAG frameworks. We will start with LlamaIndex and add other frameworks in the future. \n"
   ]
  },
  {
   "cell_type": "markdown",
   "id": "e676c9be-12ea-4cc8-8e66-bd96c0a0ceea",
   "metadata": {},
   "source": [
    "## LangChain"
   ]
  },
  {
   "cell_type": "code",
   "execution_count": null,
   "id": "b83adf94-9059-4779-afcb-2d273a66c695",
   "metadata": {},
   "outputs": [],
   "source": [
    "!pip install langchain langchain-mistralai==0.0.4 "
   ]
  },
  {
   "cell_type": "code",
   "execution_count": 19,
   "id": "fd31ffbc-9e0c-40b0-a21f-68ffac8fabea",
   "metadata": {
    "scrolled": true
   },
   "outputs": [
    {
     "data": {
      "application/vnd.jupyter.widget-view+json": {
       "model_id": "51997db64af44cfa89aed5ed14187c4b",
       "version_major": 2,
       "version_minor": 0
      },
      "text/plain": [
       "tokenizer.json:   0%|          | 0.00/1.80M [00:00<?, ?B/s]"
      ]
     },
     "metadata": {},
     "output_type": "display_data"
    },
    {
     "name": "stdout",
     "output_type": "stream",
     "text": [
      "The two main things the author worked on before college were writing and programming. He wrote short stories and tried programming on an IBM 1401 using Fortran, but he found it difficult to figure out what to do with the machine due to the limited input options. His interest in programming grew with the advent of microcomputers, leading him to write simple games, a program to predict rocket trajectories, and a word processor.\n"
     ]
    }
   ],
   "source": [
    "from langchain_community.document_loaders import TextLoader\n",
    "from langchain_mistralai.chat_models import ChatMistralAI\n",
    "from langchain_mistralai.embeddings import MistralAIEmbeddings\n",
    "from langchain_community.vectorstores import FAISS\n",
    "from langchain.text_splitter import RecursiveCharacterTextSplitter\n",
    "from langchain.chains.combine_documents import create_stuff_documents_chain\n",
    "from langchain_core.prompts import ChatPromptTemplate\n",
    "from langchain.chains import create_retrieval_chain\n",
    "\n",
    "# Load data\n",
    "loader = TextLoader(\"essay.txt\")\n",
    "docs = loader.load()\n",
    "# Split text into chunks \n",
    "text_splitter = RecursiveCharacterTextSplitter()\n",
    "documents = text_splitter.split_documents(docs)\n",
    "# Define the embedding model\n",
    "embeddings = MistralAIEmbeddings(model=\"mistral-embed\", mistral_api_key=api_key)\n",
    "# Create the vector store \n",
    "vector = FAISS.from_documents(documents, embeddings)\n",
    "# Define a retriever interface\n",
    "retriever = vector.as_retriever()\n",
    "# Define LLM\n",
    "model = ChatMistralAI(mistral_api_key=api_key)\n",
    "# Define prompt template\n",
    "prompt = ChatPromptTemplate.from_template(\"\"\"Answer the following question based only on the provided context:\n",
    "\n",
    "<context>\n",
    "{context}\n",
    "</context>\n",
    "\n",
    "Question: {input}\"\"\")\n",
    "\n",
    "# Create a retrieval chain to answer questions\n",
    "document_chain = create_stuff_documents_chain(model, prompt)\n",
    "retrieval_chain = create_retrieval_chain(retriever, document_chain)\n",
    "response = retrieval_chain.invoke({\"input\": \"What were the two main things the author worked on before college?\"})\n",
    "print(response[\"answer\"])"
   ]
  },
  {
   "cell_type": "markdown",
   "id": "48f538ee-c561-43a6-a421-a0e7b35638f7",
   "metadata": {},
   "source": [
    "## LlamaIndex"
   ]
  },
  {
   "cell_type": "code",
   "execution_count": null,
   "id": "152c2a1e-9564-459c-9ea9-5208da519a90",
   "metadata": {
    "scrolled": true
   },
   "outputs": [],
   "source": [
    "!pip install llama-index==0.10.13 llama-index-llms-mistralai==0.1.4 llama-index-embeddings-mistralai==0.1.3"
   ]
  },
  {
   "cell_type": "code",
   "execution_count": null,
   "id": "96003762-acac-4886-964b-2d6a67f6f724",
   "metadata": {},
   "outputs": [],
   "source": [
    "import os\n",
    "from llama_index.core import Settings, SimpleDirectoryReader, VectorStoreIndex\n",
    "from llama_index.llms.mistralai import MistralAI\n",
    "from llama_index.embeddings.mistralai import MistralAIEmbedding\n",
    "\n",
    "# Load data\n",
    "reader = SimpleDirectoryReader(input_files=[\"essay.txt\"])\n",
    "documents = reader.load_data()\n",
    "# Define LLM and embedding model\n",
    "Settings.llm = MistralAI(model=\"mistral-medium\")\n",
    "Settings.embed_model = MistralAIEmbedding(model_name='mistral-embed')\n",
    "# Create vector store index \n",
    "index = VectorStoreIndex.from_documents(documents)\n",
    "# Create query engine\n",
    "query_engine = index.as_query_engine(similarity_top_k=2)\n",
    "response = query_engine.query(\n",
    "    \"What were the two main things the author worked on before college?\"\n",
    ")\n",
    "print(str(response))"
   ]
  },
  {
   "cell_type": "markdown",
   "id": "f0962398",
   "metadata": {},
   "source": [
    "# Haystack"
   ]
  },
  {
   "cell_type": "code",
   "execution_count": null,
   "id": "805eed9a",
   "metadata": {},
   "outputs": [],
   "source": [
    "!pip install mistral-haystack==0.0.1"
   ]
  },
  {
   "cell_type": "code",
   "execution_count": 36,
   "id": "dfedfdc5",
   "metadata": {},
   "outputs": [
    {
     "name": "stderr",
     "output_type": "stream",
     "text": [
      "Calculating embeddings:   0%|          | 0/3 [00:00<?, ?it/s]"
     ]
    },
    {
     "name": "stderr",
     "output_type": "stream",
     "text": [
      "Calculating embeddings: 100%|██████████| 3/3 [00:01<00:00,  1.75it/s]\n"
     ]
    },
    {
     "name": "stdout",
     "output_type": "stream",
     "text": [
      "The two main things the author worked on before college were writing and programming. He wrote short stories, which he admitted were awful, and essays about various topics. He also worked on spam filters and painted. Additionally, he started having dinners for a group of friends every Thursday night, which taught him how to cook for groups. He also bought a building in Cambridge to use as an office. The author was drawn to writing essays, which he started publishing online, and this helped him figure out what to work on. He also experimented with painting and studied AI in college.\n"
     ]
    }
   ],
   "source": [
    "from haystack import Pipeline\n",
    "from haystack.document_stores.in_memory import InMemoryDocumentStore\n",
    "from haystack.dataclasses import ChatMessage\n",
    "from haystack.utils.auth import Secret\n",
    "\n",
    "from haystack.components.builders import DynamicChatPromptBuilder\n",
    "from haystack.components.converters import TextFileToDocument\n",
    "from haystack.components.preprocessors import DocumentSplitter\n",
    "from haystack.components.retrievers.in_memory import InMemoryEmbeddingRetriever\n",
    "from haystack.components.writers import DocumentWriter\n",
    "from haystack_integrations.components.embedders.mistral import MistralDocumentEmbedder, MistralTextEmbedder\n",
    "from haystack_integrations.components.generators.mistral import MistralChatGenerator\n",
    "\n",
    "document_store = InMemoryDocumentStore()\n",
    "\n",
    "docs = TextFileToDocument().run(sources=[\"essay.txt\"])\n",
    "split_docs = DocumentSplitter(split_by=\"passage\", split_length=2).run(documents=docs[\"documents\"])\n",
    "embeddings = MistralDocumentEmbedder(api_key=Secret.from_token(api_key)).run(documents=split_docs[\"documents\"])\n",
    "DocumentWriter(document_store=document_store).run(documents=embeddings[\"documents\"])\n",
    "\n",
    "\n",
    "text_embedder = MistralTextEmbedder(api_key=Secret.from_token(api_key))\n",
    "retriever = InMemoryEmbeddingRetriever(document_store=document_store)\n",
    "prompt_builder = DynamicChatPromptBuilder(runtime_variables=[\"documents\"])\n",
    "llm = MistralChatGenerator(api_key=Secret.from_token(api_key), \n",
    "                           model='mistral-small')\n",
    "\n",
    "chat_template = \"\"\"Answer the following question based on the contents of the documents.\\n\n",
    "                Question: {{query}}\\n\n",
    "                Documents: \n",
    "                {% for document in documents %}\n",
    "                    {{document.content}}\n",
    "                {% endfor%}\n",
    "                \"\"\"\n",
    "messages = [ChatMessage.from_user(chat_template)]\n",
    "\n",
    "rag_pipeline = Pipeline()\n",
    "rag_pipeline.add_component(\"text_embedder\", text_embedder)\n",
    "rag_pipeline.add_component(\"retriever\", retriever)\n",
    "rag_pipeline.add_component(\"prompt_builder\", prompt_builder)\n",
    "rag_pipeline.add_component(\"llm\", llm)\n",
    "\n",
    "\n",
    "rag_pipeline.connect(\"text_embedder.embedding\", \"retriever.query_embedding\")\n",
    "rag_pipeline.connect(\"retriever.documents\", \"prompt_builder.documents\")\n",
    "rag_pipeline.connect(\"prompt_builder.prompt\", \"llm.messages\")\n",
    "\n",
    "question = \"What were the two main things the author worked on before college?\"\n",
    "\n",
    "result = rag_pipeline.run(\n",
    "    {\n",
    "        \"text_embedder\": {\"text\": question},\n",
    "        \"prompt_builder\": {\"template_variables\": {\"query\": question}, \"prompt_source\": messages},\n",
    "        \"llm\": {\"generation_kwargs\": {\"max_tokens\": 225}},\n",
    "    }\n",
    ")\n",
    "\n",
    "print(result[\"llm\"][\"replies\"][0].content)"
   ]
  }
 ],
 "metadata": {
  "jupytext": {
   "formats": "ipynb,py:light"
  },
  "kernelspec": {
   "display_name": "Python 3 (ipykernel)",
   "language": "python",
   "name": "python3"
  },
  "language_info": {
   "codemirror_mode": {
    "name": "ipython",
    "version": 3
   },
   "file_extension": ".py",
   "mimetype": "text/x-python",
   "name": "python",
   "nbconvert_exporter": "python",
   "pygments_lexer": "ipython3",
   "version": "3.11.6"
  }
 },
 "nbformat": 4,
 "nbformat_minor": 5
}
